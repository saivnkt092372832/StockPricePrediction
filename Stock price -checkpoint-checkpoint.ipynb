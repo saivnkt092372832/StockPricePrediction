{
 "cells": [
  {
   "cell_type": "code",
   "execution_count": 1,
   "id": "6453eef7",
   "metadata": {},
   "outputs": [],
   "source": [
    "import numpy as np\n",
    "import pandas as pd\n",
    "import datetime as dt\n",
    "import matplotlib.pyplot as plt\n",
    "import pandas_datareader as data\n",
    "import pandas_datareader.data as data\n",
    "\n"
   ]
  },
  {
   "cell_type": "code",
   "execution_count": 2,
   "id": "e487b165",
   "metadata": {},
   "outputs": [],
   "source": [
    "import yfinance as yf"
   ]
  },
  {
   "cell_type": "code",
   "execution_count": 3,
   "id": "5d6df502",
   "metadata": {},
   "outputs": [],
   "source": [
    "start = '2010-01-01'\n",
    "end = dt.datetime.now()\n",
    "\n",
    "try:\n",
    "    msft = yf.Ticker('MSFT')\n",
    "    df = msft.history(period='1d', start=start, end=end)\n",
    "    df.reset_index(inplace=True)\n",
    "    df.head()\n",
    "except Exception as e:\n",
    "    print(f\"An error occurred: {e}\")"
   ]
  },
  {
   "cell_type": "code",
   "execution_count": 4,
   "id": "f86146fd",
   "metadata": {},
   "outputs": [
    {
     "data": {
      "text/html": [
       "<div>\n",
       "<style scoped>\n",
       "    .dataframe tbody tr th:only-of-type {\n",
       "        vertical-align: middle;\n",
       "    }\n",
       "\n",
       "    .dataframe tbody tr th {\n",
       "        vertical-align: top;\n",
       "    }\n",
       "\n",
       "    .dataframe thead th {\n",
       "        text-align: right;\n",
       "    }\n",
       "</style>\n",
       "<table border=\"1\" class=\"dataframe\">\n",
       "  <thead>\n",
       "    <tr style=\"text-align: right;\">\n",
       "      <th></th>\n",
       "      <th>Date</th>\n",
       "      <th>Open</th>\n",
       "      <th>High</th>\n",
       "      <th>Low</th>\n",
       "      <th>Close</th>\n",
       "      <th>Volume</th>\n",
       "      <th>Dividends</th>\n",
       "      <th>Stock Splits</th>\n",
       "    </tr>\n",
       "  </thead>\n",
       "  <tbody>\n",
       "    <tr>\n",
       "      <th>3442</th>\n",
       "      <td>2023-09-07 00:00:00-04:00</td>\n",
       "      <td>331.290009</td>\n",
       "      <td>333.079987</td>\n",
       "      <td>329.029999</td>\n",
       "      <td>329.910004</td>\n",
       "      <td>18381000</td>\n",
       "      <td>0.0</td>\n",
       "      <td>0.0</td>\n",
       "    </tr>\n",
       "    <tr>\n",
       "      <th>3443</th>\n",
       "      <td>2023-09-08 00:00:00-04:00</td>\n",
       "      <td>330.089996</td>\n",
       "      <td>336.160004</td>\n",
       "      <td>329.459991</td>\n",
       "      <td>334.269989</td>\n",
       "      <td>19530100</td>\n",
       "      <td>0.0</td>\n",
       "      <td>0.0</td>\n",
       "    </tr>\n",
       "    <tr>\n",
       "      <th>3444</th>\n",
       "      <td>2023-09-11 00:00:00-04:00</td>\n",
       "      <td>337.239990</td>\n",
       "      <td>338.420013</td>\n",
       "      <td>335.429993</td>\n",
       "      <td>337.940002</td>\n",
       "      <td>16583300</td>\n",
       "      <td>0.0</td>\n",
       "      <td>0.0</td>\n",
       "    </tr>\n",
       "    <tr>\n",
       "      <th>3445</th>\n",
       "      <td>2023-09-12 00:00:00-04:00</td>\n",
       "      <td>335.820007</td>\n",
       "      <td>336.790009</td>\n",
       "      <td>331.480011</td>\n",
       "      <td>331.769989</td>\n",
       "      <td>17565500</td>\n",
       "      <td>0.0</td>\n",
       "      <td>0.0</td>\n",
       "    </tr>\n",
       "    <tr>\n",
       "      <th>3446</th>\n",
       "      <td>2023-09-13 00:00:00-04:00</td>\n",
       "      <td>331.309998</td>\n",
       "      <td>336.850006</td>\n",
       "      <td>331.170013</td>\n",
       "      <td>336.059998</td>\n",
       "      <td>16527400</td>\n",
       "      <td>0.0</td>\n",
       "      <td>0.0</td>\n",
       "    </tr>\n",
       "  </tbody>\n",
       "</table>\n",
       "</div>"
      ],
      "text/plain": [
       "                          Date        Open        High         Low  \\\n",
       "3442 2023-09-07 00:00:00-04:00  331.290009  333.079987  329.029999   \n",
       "3443 2023-09-08 00:00:00-04:00  330.089996  336.160004  329.459991   \n",
       "3444 2023-09-11 00:00:00-04:00  337.239990  338.420013  335.429993   \n",
       "3445 2023-09-12 00:00:00-04:00  335.820007  336.790009  331.480011   \n",
       "3446 2023-09-13 00:00:00-04:00  331.309998  336.850006  331.170013   \n",
       "\n",
       "           Close    Volume  Dividends  Stock Splits  \n",
       "3442  329.910004  18381000        0.0           0.0  \n",
       "3443  334.269989  19530100        0.0           0.0  \n",
       "3444  337.940002  16583300        0.0           0.0  \n",
       "3445  331.769989  17565500        0.0           0.0  \n",
       "3446  336.059998  16527400        0.0           0.0  "
      ]
     },
     "execution_count": 4,
     "metadata": {},
     "output_type": "execute_result"
    }
   ],
   "source": [
    "df.tail()"
   ]
  },
  {
   "cell_type": "code",
   "execution_count": 5,
   "id": "cca44e32",
   "metadata": {},
   "outputs": [
    {
     "data": {
      "text/html": [
       "<div>\n",
       "<style scoped>\n",
       "    .dataframe tbody tr th:only-of-type {\n",
       "        vertical-align: middle;\n",
       "    }\n",
       "\n",
       "    .dataframe tbody tr th {\n",
       "        vertical-align: top;\n",
       "    }\n",
       "\n",
       "    .dataframe thead th {\n",
       "        text-align: right;\n",
       "    }\n",
       "</style>\n",
       "<table border=\"1\" class=\"dataframe\">\n",
       "  <thead>\n",
       "    <tr style=\"text-align: right;\">\n",
       "      <th></th>\n",
       "      <th>index</th>\n",
       "      <th>Date</th>\n",
       "      <th>Open</th>\n",
       "      <th>High</th>\n",
       "      <th>Low</th>\n",
       "      <th>Close</th>\n",
       "      <th>Volume</th>\n",
       "      <th>Dividends</th>\n",
       "      <th>Stock Splits</th>\n",
       "    </tr>\n",
       "  </thead>\n",
       "  <tbody>\n",
       "    <tr>\n",
       "      <th>0</th>\n",
       "      <td>0</td>\n",
       "      <td>2010-01-04 00:00:00-05:00</td>\n",
       "      <td>23.271758</td>\n",
       "      <td>23.636566</td>\n",
       "      <td>23.248957</td>\n",
       "      <td>23.522564</td>\n",
       "      <td>38409100</td>\n",
       "      <td>0.0</td>\n",
       "      <td>0.0</td>\n",
       "    </tr>\n",
       "    <tr>\n",
       "      <th>1</th>\n",
       "      <td>1</td>\n",
       "      <td>2010-01-05 00:00:00-05:00</td>\n",
       "      <td>23.446566</td>\n",
       "      <td>23.636570</td>\n",
       "      <td>23.286961</td>\n",
       "      <td>23.530167</td>\n",
       "      <td>49749600</td>\n",
       "      <td>0.0</td>\n",
       "      <td>0.0</td>\n",
       "    </tr>\n",
       "    <tr>\n",
       "      <th>2</th>\n",
       "      <td>2</td>\n",
       "      <td>2010-01-06 00:00:00-05:00</td>\n",
       "      <td>23.469366</td>\n",
       "      <td>23.621370</td>\n",
       "      <td>23.195760</td>\n",
       "      <td>23.385765</td>\n",
       "      <td>58182400</td>\n",
       "      <td>0.0</td>\n",
       "      <td>0.0</td>\n",
       "    </tr>\n",
       "    <tr>\n",
       "      <th>3</th>\n",
       "      <td>3</td>\n",
       "      <td>2010-01-07 00:00:00-05:00</td>\n",
       "      <td>23.279350</td>\n",
       "      <td>23.332552</td>\n",
       "      <td>22.944943</td>\n",
       "      <td>23.142548</td>\n",
       "      <td>50559700</td>\n",
       "      <td>0.0</td>\n",
       "      <td>0.0</td>\n",
       "    </tr>\n",
       "    <tr>\n",
       "      <th>4</th>\n",
       "      <td>4</td>\n",
       "      <td>2010-01-08 00:00:00-05:00</td>\n",
       "      <td>23.013358</td>\n",
       "      <td>23.469368</td>\n",
       "      <td>22.982956</td>\n",
       "      <td>23.302164</td>\n",
       "      <td>51197400</td>\n",
       "      <td>0.0</td>\n",
       "      <td>0.0</td>\n",
       "    </tr>\n",
       "  </tbody>\n",
       "</table>\n",
       "</div>"
      ],
      "text/plain": [
       "   index                      Date       Open       High        Low  \\\n",
       "0      0 2010-01-04 00:00:00-05:00  23.271758  23.636566  23.248957   \n",
       "1      1 2010-01-05 00:00:00-05:00  23.446566  23.636570  23.286961   \n",
       "2      2 2010-01-06 00:00:00-05:00  23.469366  23.621370  23.195760   \n",
       "3      3 2010-01-07 00:00:00-05:00  23.279350  23.332552  22.944943   \n",
       "4      4 2010-01-08 00:00:00-05:00  23.013358  23.469368  22.982956   \n",
       "\n",
       "       Close    Volume  Dividends  Stock Splits  \n",
       "0  23.522564  38409100        0.0           0.0  \n",
       "1  23.530167  49749600        0.0           0.0  \n",
       "2  23.385765  58182400        0.0           0.0  \n",
       "3  23.142548  50559700        0.0           0.0  \n",
       "4  23.302164  51197400        0.0           0.0  "
      ]
     },
     "execution_count": 5,
     "metadata": {},
     "output_type": "execute_result"
    }
   ],
   "source": [
    "#Reset index\n",
    "df = df.reset_index()\n",
    "df.head()"
   ]
  },
  {
   "cell_type": "code",
   "execution_count": 6,
   "id": "03814532",
   "metadata": {},
   "outputs": [
    {
     "data": {
      "text/plain": [
       "[<matplotlib.lines.Line2D at 0x24d33f105e0>]"
      ]
     },
     "execution_count": 6,
     "metadata": {},
     "output_type": "execute_result"
    },
    {
     "data": {
      "image/png": "[encoded data removed]",
      "text/plain": [
       "<Figure size 640x480 with 1 Axes>"
      ]
     },
     "metadata": {},
     "output_type": "display_data"
    }
   ],
   "source": [
    "#Closing price chart\n",
    "plt.plot(df.Close)"
   ]
  },
  {
   "cell_type": "code",
   "execution_count": 7,
   "id": "177972ce",
   "metadata": {},
   "outputs": [
    {
     "data": {
      "text/html": [
       "<div>\n",
       "<style scoped>\n",
       "    .dataframe tbody tr th:only-of-type {\n",
       "        vertical-align: middle;\n",
       "    }\n",
       "\n",
       "    .dataframe tbody tr th {\n",
       "        vertical-align: top;\n",
       "    }\n",
       "\n",
       "    .dataframe thead th {\n",
       "        text-align: right;\n",
       "    }\n",
       "</style>\n",
       "<table border=\"1\" class=\"dataframe\">\n",
       "  <thead>\n",
       "    <tr style=\"text-align: right;\">\n",
       "      <th></th>\n",
       "      <th>index</th>\n",
       "      <th>Date</th>\n",
       "      <th>Open</th>\n",
       "      <th>High</th>\n",
       "      <th>Low</th>\n",
       "      <th>Close</th>\n",
       "      <th>Volume</th>\n",
       "      <th>Dividends</th>\n",
       "      <th>Stock Splits</th>\n",
       "    </tr>\n",
       "  </thead>\n",
       "  <tbody>\n",
       "    <tr>\n",
       "      <th>0</th>\n",
       "      <td>0</td>\n",
       "      <td>2010-01-04 00:00:00-05:00</td>\n",
       "      <td>23.271758</td>\n",
       "      <td>23.636566</td>\n",
       "      <td>23.248957</td>\n",
       "      <td>23.522564</td>\n",
       "      <td>38409100</td>\n",
       "      <td>0.0</td>\n",
       "      <td>0.0</td>\n",
       "    </tr>\n",
       "    <tr>\n",
       "      <th>1</th>\n",
       "      <td>1</td>\n",
       "      <td>2010-01-05 00:00:00-05:00</td>\n",
       "      <td>23.446566</td>\n",
       "      <td>23.636570</td>\n",
       "      <td>23.286961</td>\n",
       "      <td>23.530167</td>\n",
       "      <td>49749600</td>\n",
       "      <td>0.0</td>\n",
       "      <td>0.0</td>\n",
       "    </tr>\n",
       "    <tr>\n",
       "      <th>2</th>\n",
       "      <td>2</td>\n",
       "      <td>2010-01-06 00:00:00-05:00</td>\n",
       "      <td>23.469366</td>\n",
       "      <td>23.621370</td>\n",
       "      <td>23.195760</td>\n",
       "      <td>23.385765</td>\n",
       "      <td>58182400</td>\n",
       "      <td>0.0</td>\n",
       "      <td>0.0</td>\n",
       "    </tr>\n",
       "    <tr>\n",
       "      <th>3</th>\n",
       "      <td>3</td>\n",
       "      <td>2010-01-07 00:00:00-05:00</td>\n",
       "      <td>23.279350</td>\n",
       "      <td>23.332552</td>\n",
       "      <td>22.944943</td>\n",
       "      <td>23.142548</td>\n",
       "      <td>50559700</td>\n",
       "      <td>0.0</td>\n",
       "      <td>0.0</td>\n",
       "    </tr>\n",
       "    <tr>\n",
       "      <th>4</th>\n",
       "      <td>4</td>\n",
       "      <td>2010-01-08 00:00:00-05:00</td>\n",
       "      <td>23.013358</td>\n",
       "      <td>23.469368</td>\n",
       "      <td>22.982956</td>\n",
       "      <td>23.302164</td>\n",
       "      <td>51197400</td>\n",
       "      <td>0.0</td>\n",
       "      <td>0.0</td>\n",
       "    </tr>\n",
       "    <tr>\n",
       "      <th>...</th>\n",
       "      <td>...</td>\n",
       "      <td>...</td>\n",
       "      <td>...</td>\n",
       "      <td>...</td>\n",
       "      <td>...</td>\n",
       "      <td>...</td>\n",
       "      <td>...</td>\n",
       "      <td>...</td>\n",
       "      <td>...</td>\n",
       "    </tr>\n",
       "    <tr>\n",
       "      <th>3442</th>\n",
       "      <td>3442</td>\n",
       "      <td>2023-09-07 00:00:00-04:00</td>\n",
       "      <td>331.290009</td>\n",
       "      <td>333.079987</td>\n",
       "      <td>329.029999</td>\n",
       "      <td>329.910004</td>\n",
       "      <td>18381000</td>\n",
       "      <td>0.0</td>\n",
       "      <td>0.0</td>\n",
       "    </tr>\n",
       "    <tr>\n",
       "      <th>3443</th>\n",
       "      <td>3443</td>\n",
       "      <td>2023-09-08 00:00:00-04:00</td>\n",
       "      <td>330.089996</td>\n",
       "      <td>336.160004</td>\n",
       "      <td>329.459991</td>\n",
       "      <td>334.269989</td>\n",
       "      <td>19530100</td>\n",
       "      <td>0.0</td>\n",
       "      <td>0.0</td>\n",
       "    </tr>\n",
       "    <tr>\n",
       "      <th>3444</th>\n",
       "      <td>3444</td>\n",
       "      <td>2023-09-11 00:00:00-04:00</td>\n",
       "      <td>337.239990</td>\n",
       "      <td>338.420013</td>\n",
       "      <td>335.429993</td>\n",
       "      <td>337.940002</td>\n",
       "      <td>16583300</td>\n",
       "      <td>0.0</td>\n",
       "      <td>0.0</td>\n",
       "    </tr>\n",
       "    <tr>\n",
       "      <th>3445</th>\n",
       "      <td>3445</td>\n",
       "      <td>2023-09-12 00:00:00-04:00</td>\n",
       "      <td>335.820007</td>\n",
       "      <td>336.790009</td>\n",
       "      <td>331.480011</td>\n",
       "      <td>331.769989</td>\n",
       "      <td>17565500</td>\n",
       "      <td>0.0</td>\n",
       "      <td>0.0</td>\n",
       "    </tr>\n",
       "    <tr>\n",
       "      <th>3446</th>\n",
       "      <td>3446</td>\n",
       "      <td>2023-09-13 00:00:00-04:00</td>\n",
       "      <td>331.309998</td>\n",
       "      <td>336.850006</td>\n",
       "      <td>331.170013</td>\n",
       "      <td>336.059998</td>\n",
       "      <td>16527400</td>\n",
       "      <td>0.0</td>\n",
       "      <td>0.0</td>\n",
       "    </tr>\n",
       "  </tbody>\n",
       "</table>\n",
       "<p>3447 rows × 9 columns</p>\n",
       "</div>"
      ],
      "text/plain": [
       "      index                      Date        Open        High         Low  \\\n",
       "0         0 2010-01-04 00:00:00-05:00   23.271758   23.636566   23.248957   \n",
       "1         1 2010-01-05 00:00:00-05:00   23.446566   23.636570   23.286961   \n",
       "2         2 2010-01-06 00:00:00-05:00   23.469366   23.621370   23.195760   \n",
       "3         3 2010-01-07 00:00:00-05:00   23.279350   23.332552   22.944943   \n",
       "4         4 2010-01-08 00:00:00-05:00   23.013358   23.469368   22.982956   \n",
       "...     ...                       ...         ...         ...         ...   \n",
       "3442   3442 2023-09-07 00:00:00-04:00  331.290009  333.079987  329.029999   \n",
       "3443   3443 2023-09-08 00:00:00-04:00  330.089996  336.160004  329.459991   \n",
       "3444   3444 2023-09-11 00:00:00-04:00  337.239990  338.420013  335.429993   \n",
       "3445   3445 2023-09-12 00:00:00-04:00  335.820007  336.790009  331.480011   \n",
       "3446   3446 2023-09-13 00:00:00-04:00  331.309998  336.850006  331.170013   \n",
       "\n",
       "           Close    Volume  Dividends  Stock Splits  \n",
       "0      23.522564  38409100        0.0           0.0  \n",
       "1      23.530167  49749600        0.0           0.0  \n",
       "2      23.385765  58182400        0.0           0.0  \n",
       "3      23.142548  50559700        0.0           0.0  \n",
       "4      23.302164  51197400        0.0           0.0  \n",
       "...          ...       ...        ...           ...  \n",
       "3442  329.910004  18381000        0.0           0.0  \n",
       "3443  334.269989  19530100        0.0           0.0  \n",
       "3444  337.940002  16583300        0.0           0.0  \n",
       "3445  331.769989  17565500        0.0           0.0  \n",
       "3446  336.059998  16527400        0.0           0.0  \n",
       "\n",
       "[3447 rows x 9 columns]"
      ]
     },
     "execution_count": 7,
     "metadata": {},
     "output_type": "execute_result"
    }
   ],
   "source": [
    "df"
   ]
  },
  {
   "cell_type": "code",
   "execution_count": 8,
   "id": "a52ede3f",
   "metadata": {},
   "outputs": [
    {
     "data": {
      "text/plain": [
       "0              NaN\n",
       "1              NaN\n",
       "2              NaN\n",
       "3              NaN\n",
       "4              NaN\n",
       "           ...    \n",
       "3442    323.993361\n",
       "3443    324.460449\n",
       "3444    324.968518\n",
       "3445    325.414091\n",
       "3446    325.925863\n",
       "Name: Close, Length: 3447, dtype: float64"
      ]
     },
     "execution_count": 8,
     "metadata": {},
     "output_type": "execute_result"
    }
   ],
   "source": [
    "#Moving average of 100 days\n",
    "ma100 = df.Close.rolling(100).mean()\n",
    "ma100"
   ]
  },
  {
   "cell_type": "code",
   "execution_count": 9,
   "id": "66ddd478",
   "metadata": {},
   "outputs": [
    {
     "data": {
      "text/plain": [
       "[<matplotlib.lines.Line2D at 0x24d36041d00>]"
      ]
     },
     "execution_count": 9,
     "metadata": {},
     "output_type": "execute_result"
    },
    {
     "data": {
      "image/png": "[encoded data removed]",
      "text/plain": [
       "<Figure size 1200x600 with 1 Axes>"
      ]
     },
     "metadata": {},
     "output_type": "display_data"
    }
   ],
   "source": [
    "plt.figure(figsize=(12,6))\n",
    "plt.plot(df.Close)\n",
    "plt.plot(ma100,'r')"
   ]
  },
  {
   "cell_type": "code",
   "execution_count": 10,
   "id": "08c6fb9d",
   "metadata": {},
   "outputs": [
    {
     "data": {
      "text/plain": [
       "0              NaN\n",
       "1              NaN\n",
       "2              NaN\n",
       "3              NaN\n",
       "4              NaN\n",
       "           ...    \n",
       "3442    288.849452\n",
       "3443    289.322876\n",
       "3444    289.810528\n",
       "3445    290.252531\n",
       "3446    290.703320\n",
       "Name: Close, Length: 3447, dtype: float64"
      ]
     },
     "execution_count": 10,
     "metadata": {},
     "output_type": "execute_result"
    }
   ],
   "source": [
    "#Moving average of 200 days\n",
    "ma200 = df.Close.rolling(200).mean()\n",
    "ma200"
   ]
  },
  {
   "cell_type": "code",
   "execution_count": 11,
   "id": "b0fb89ce",
   "metadata": {},
   "outputs": [
    {
     "data": {
      "text/plain": [
       "[<matplotlib.lines.Line2D at 0x24d360cc430>]"
      ]
     },
     "execution_count": 11,
     "metadata": {},
     "output_type": "execute_result"
    },
    {
     "data": {
      "image/png": "[encoded data removed]",
      "text/plain": [
       "<Figure size 1200x600 with 1 Axes>"
      ]
     },
     "metadata": {},
     "output_type": "display_data"
    }
   ],
   "source": [
    "plt.figure(figsize=(12,6))\n",
    "plt.plot(df.Close)\n",
    "plt.plot(ma100,'r')\n",
    "plt.plot(ma200,'g')"
   ]
  },
  {
   "cell_type": "code",
   "execution_count": 12,
   "id": "910af944",
   "metadata": {},
   "outputs": [
    {
     "data": {
      "text/plain": [
       "(3447, 9)"
      ]
     },
     "execution_count": 12,
     "metadata": {},
     "output_type": "execute_result"
    }
   ],
   "source": [
    "df.shape"
   ]
  },
  {
   "cell_type": "code",
   "execution_count": 13,
   "id": "77e97379",
   "metadata": {},
   "outputs": [
    {
     "name": "stdout",
     "output_type": "stream",
     "text": [
      "(2412, 1)\n",
      "(1035, 1)\n"
     ]
    }
   ],
   "source": [
    "#Splitting Data into Training and Testing\n",
    "\n",
    "data_training = pd.DataFrame(df['Close'][0:int(len(df)*0.70)])\n",
    "data_testing = pd.DataFrame(df['Close'][int(len(df)*0.70): int(len(df))])\n",
    "\n",
    "print(data_training.shape)\n",
    "print(data_testing.shape)"
   ]
  },
  {
   "cell_type": "code",
   "execution_count": 14,
   "id": "2231ca96",
   "metadata": {},
   "outputs": [
    {
     "data": {
      "text/html": [
       "<div>\n",
       "<style scoped>\n",
       "    .dataframe tbody tr th:only-of-type {\n",
       "        vertical-align: middle;\n",
       "    }\n",
       "\n",
       "    .dataframe tbody tr th {\n",
       "        vertical-align: top;\n",
       "    }\n",
       "\n",
       "    .dataframe thead th {\n",
       "        text-align: right;\n",
       "    }\n",
       "</style>\n",
       "<table border=\"1\" class=\"dataframe\">\n",
       "  <thead>\n",
       "    <tr style=\"text-align: right;\">\n",
       "      <th></th>\n",
       "      <th>Close</th>\n",
       "    </tr>\n",
       "  </thead>\n",
       "  <tbody>\n",
       "    <tr>\n",
       "      <th>0</th>\n",
       "      <td>23.522564</td>\n",
       "    </tr>\n",
       "    <tr>\n",
       "      <th>1</th>\n",
       "      <td>23.530167</td>\n",
       "    </tr>\n",
       "    <tr>\n",
       "      <th>2</th>\n",
       "      <td>23.385765</td>\n",
       "    </tr>\n",
       "    <tr>\n",
       "      <th>3</th>\n",
       "      <td>23.142548</td>\n",
       "    </tr>\n",
       "    <tr>\n",
       "      <th>4</th>\n",
       "      <td>23.302164</td>\n",
       "    </tr>\n",
       "  </tbody>\n",
       "</table>\n",
       "</div>"
      ],
      "text/plain": [
       "       Close\n",
       "0  23.522564\n",
       "1  23.530167\n",
       "2  23.385765\n",
       "3  23.142548\n",
       "4  23.302164"
      ]
     },
     "execution_count": 14,
     "metadata": {},
     "output_type": "execute_result"
    }
   ],
   "source": [
    "data_training.head()"
   ]
  },
  {
   "cell_type": "code",
   "execution_count": 15,
   "id": "b7f2cc7c",
   "metadata": {},
   "outputs": [
    {
     "data": {
      "text/html": [
       "<div>\n",
       "<style scoped>\n",
       "    .dataframe tbody tr th:only-of-type {\n",
       "        vertical-align: middle;\n",
       "    }\n",
       "\n",
       "    .dataframe tbody tr th {\n",
       "        vertical-align: top;\n",
       "    }\n",
       "\n",
       "    .dataframe thead th {\n",
       "        text-align: right;\n",
       "    }\n",
       "</style>\n",
       "<table border=\"1\" class=\"dataframe\">\n",
       "  <thead>\n",
       "    <tr style=\"text-align: right;\">\n",
       "      <th></th>\n",
       "      <th>Close</th>\n",
       "    </tr>\n",
       "  </thead>\n",
       "  <tbody>\n",
       "    <tr>\n",
       "      <th>2412</th>\n",
       "      <td>126.805984</td>\n",
       "    </tr>\n",
       "    <tr>\n",
       "      <th>2413</th>\n",
       "      <td>129.184647</td>\n",
       "    </tr>\n",
       "    <tr>\n",
       "      <th>2414</th>\n",
       "      <td>129.750488</td>\n",
       "    </tr>\n",
       "    <tr>\n",
       "      <th>2415</th>\n",
       "      <td>133.212921</td>\n",
       "    </tr>\n",
       "    <tr>\n",
       "      <th>2416</th>\n",
       "      <td>132.081192</td>\n",
       "    </tr>\n",
       "  </tbody>\n",
       "</table>\n",
       "</div>"
      ],
      "text/plain": [
       "           Close\n",
       "2412  126.805984\n",
       "2413  129.184647\n",
       "2414  129.750488\n",
       "2415  133.212921\n",
       "2416  132.081192"
      ]
     },
     "execution_count": 15,
     "metadata": {},
     "output_type": "execute_result"
    }
   ],
   "source": [
    "data_testing.head()"
   ]
  },
  {
   "cell_type": "code",
   "execution_count": 16,
   "id": "2e95891f",
   "metadata": {},
   "outputs": [],
   "source": [
    "#Scaling data(to Normalize data in a particular range)\n",
    "# makes it easy for a model to learn and understand the problem\n",
    "from sklearn.preprocessing import MinMaxScaler\n",
    "scaler = MinMaxScaler(feature_range=(0,1))"
   ]
  },
  {
   "cell_type": "code",
   "execution_count": 17,
   "id": "f254001d",
   "metadata": {},
   "outputs": [
    {
     "data": {
      "text/plain": [
       "array([[0.04981173],\n",
       "       [0.0498762 ],\n",
       "       [0.04865157],\n",
       "       ...,\n",
       "       [0.95875986],\n",
       "       [0.97331989],\n",
       "       [0.96388423]])"
      ]
     },
     "execution_count": 17,
     "metadata": {},
     "output_type": "execute_result"
    }
   ],
   "source": [
    "#Storing in array\n",
    "data_training_array = scaler.fit_transform(data_training)\n",
    "data_training_array"
   ]
  },
  {
   "cell_type": "code",
   "execution_count": 18,
   "id": "cae6e3f3",
   "metadata": {},
   "outputs": [],
   "source": [
    "# Divide the data into x and y\n",
    "x_train = []\n",
    "y_train = []\n",
    "\n",
    "for i in range(100, data_training_array.shape[0]):\n",
    "    x_train.append(data_training_array[i-100: i])\n",
    "    y_train.append(data_training_array[i, 0])\n",
    "    \n",
    "#now make into numpy(because to give to model)\n",
    "x_train, y_train = np.array(x_train), np.array(y_train)"
   ]
  },
  {
   "cell_type": "code",
   "execution_count": 19,
   "id": "32b21955",
   "metadata": {},
   "outputs": [],
   "source": [
    "# ML MODEL\n",
    "\n",
    "from keras.layers import Dense,Dropout, LSTM\n",
    "from keras.models import Sequential"
   ]
  },
  {
   "cell_type": "code",
   "execution_count": 20,
   "id": "e7b3b0f3",
   "metadata": {},
   "outputs": [],
   "source": [
    "model = Sequential()\n",
    "\n",
    "model.add(LSTM(units = 50, activation = 'relu', return_sequences = True,\n",
    "              input_shape = (x_train.shape[1], 1)))\n",
    "model.add(Dropout(0.2))\n",
    "\n",
    "\n",
    "model.add(LSTM(units = 60, activation = 'relu', return_sequences = True))\n",
    "model.add(Dropout(0.3))\n",
    "\n",
    "model.add(LSTM(units = 80, activation = 'relu', return_sequences = True))\n",
    "model.add(Dropout(0.4))\n",
    "\n",
    "model.add(LSTM(units = 120, activation = 'relu'))\n",
    "model.add(Dropout(0.5))\n",
    "\n",
    "#To connect all layers\n",
    "model.add(Dense(units = 1))"
   ]
  },
  {
   "cell_type": "code",
   "execution_count": 21,
   "id": "e6c6e182",
   "metadata": {},
   "outputs": [
    {
     "name": "stdout",
     "output_type": "stream",
     "text": [
      "Model: \"sequential\"\n",
      "_________________________________________________________________\n",
      " Layer (type)                Output Shape              Param #   \n",
      "=================================================================\n",
      " lstm (LSTM)                 (None, 100, 50)           10400     \n",
      "                                                                 \n",
      " dropout (Dropout)           (None, 100, 50)           0         \n",
      "                                                                 \n",
      " lstm_1 (LSTM)               (None, 100, 60)           26640     \n",
      "                                                                 \n",
      " dropout_1 (Dropout)         (None, 100, 60)           0         \n",
      "                                                                 \n",
      " lstm_2 (LSTM)               (None, 100, 80)           45120     \n",
      "                                                                 \n",
      " dropout_2 (Dropout)         (None, 100, 80)           0         \n",
      "                                                                 \n",
      " lstm_3 (LSTM)               (None, 120)               96480     \n",
      "                                                                 \n",
      " dropout_3 (Dropout)         (None, 120)               0         \n",
      "                                                                 \n",
      " dense (Dense)               (None, 1)                 121       \n",
      "                                                                 \n",
      "=================================================================\n",
      "Total params: 178,761\n",
      "Trainable params: 178,761\n",
      "Non-trainable params: 0\n",
      "_________________________________________________________________\n"
     ]
    }
   ],
   "source": [
    "model.summary()"
   ]
  },
  {
   "cell_type": "code",
   "execution_count": 22,
   "id": "fec46bb4",
   "metadata": {},
   "outputs": [
    {
     "name": "stdout",
     "output_type": "stream",
     "text": [
      "Epoch 1/50\n",
      "73/73 [==============================] - 47s 531ms/step - loss: 0.0218\n",
      "Epoch 2/50\n",
      "73/73 [==============================] - 38s 526ms/step - loss: 0.0045\n",
      "Epoch 3/50\n",
      "73/73 [==============================] - 38s 524ms/step - loss: 0.0047\n",
      "Epoch 4/50\n",
      "73/73 [==============================] - 39s 530ms/step - loss: 0.0042\n",
      "Epoch 5/50\n",
      "73/73 [==============================] - 37s 514ms/step - loss: 0.0034\n",
      "Epoch 6/50\n",
      "73/73 [==============================] - 49s 674ms/step - loss: 0.0032\n",
      "Epoch 7/50\n",
      "73/73 [==============================] - 50s 679ms/step - loss: 0.0029\n",
      "Epoch 8/50\n",
      "73/73 [==============================] - 40s 552ms/step - loss: 0.0033\n",
      "Epoch 9/50\n",
      "73/73 [==============================] - 40s 548ms/step - loss: 0.0029\n",
      "Epoch 10/50\n",
      "73/73 [==============================] - 40s 547ms/step - loss: 0.0026\n",
      "Epoch 11/50\n",
      "73/73 [==============================] - 40s 555ms/step - loss: 0.0021\n",
      "Epoch 12/50\n",
      "73/73 [==============================] - 40s 543ms/step - loss: 0.0022\n",
      "Epoch 13/50\n",
      "73/73 [==============================] - 41s 558ms/step - loss: 0.0024\n",
      "Epoch 14/50\n",
      "73/73 [==============================] - 41s 558ms/step - loss: 0.0019\n",
      "Epoch 15/50\n",
      "73/73 [==============================] - 41s 562ms/step - loss: 0.0021\n",
      "Epoch 16/50\n",
      "73/73 [==============================] - 39s 539ms/step - loss: 0.0019\n",
      "Epoch 17/50\n",
      "73/73 [==============================] - 45s 620ms/step - loss: 0.0021\n",
      "Epoch 18/50\n",
      "73/73 [==============================] - 42s 576ms/step - loss: 0.0022\n",
      "Epoch 19/50\n",
      "73/73 [==============================] - 41s 566ms/step - loss: 0.0021\n",
      "Epoch 20/50\n",
      "73/73 [==============================] - 44s 603ms/step - loss: 0.0019\n",
      "Epoch 21/50\n",
      "73/73 [==============================] - 43s 593ms/step - loss: 0.0019\n",
      "Epoch 22/50\n",
      "73/73 [==============================] - 43s 586ms/step - loss: 0.0019\n",
      "Epoch 23/50\n",
      "73/73 [==============================] - 43s 593ms/step - loss: 0.0019\n",
      "Epoch 24/50\n",
      "73/73 [==============================] - 44s 596ms/step - loss: 0.0018\n",
      "Epoch 25/50\n",
      "73/73 [==============================] - 42s 572ms/step - loss: 0.0020\n",
      "Epoch 26/50\n",
      "73/73 [==============================] - 45s 610ms/step - loss: 0.0018\n",
      "Epoch 27/50\n",
      "73/73 [==============================] - 44s 599ms/step - loss: 0.0021\n",
      "Epoch 28/50\n",
      "73/73 [==============================] - 45s 623ms/step - loss: 0.0017\n",
      "Epoch 29/50\n",
      "73/73 [==============================] - 44s 601ms/step - loss: 0.0018\n",
      "Epoch 30/50\n",
      "73/73 [==============================] - 43s 587ms/step - loss: 0.0018\n",
      "Epoch 31/50\n",
      "73/73 [==============================] - 43s 590ms/step - loss: 0.0017\n",
      "Epoch 32/50\n",
      "73/73 [==============================] - 45s 623ms/step - loss: 0.0017\n",
      "Epoch 33/50\n",
      "73/73 [==============================] - 45s 623ms/step - loss: 0.0018\n",
      "Epoch 34/50\n",
      "73/73 [==============================] - 46s 634ms/step - loss: 0.0019\n",
      "Epoch 35/50\n",
      "73/73 [==============================] - 42s 581ms/step - loss: 0.0020\n",
      "Epoch 36/50\n",
      "73/73 [==============================] - 43s 591ms/step - loss: 0.0019\n",
      "Epoch 37/50\n",
      "73/73 [==============================] - 45s 623ms/step - loss: 0.0017\n",
      "Epoch 38/50\n",
      "73/73 [==============================] - 43s 591ms/step - loss: 0.0019\n",
      "Epoch 39/50\n",
      "73/73 [==============================] - 45s 619ms/step - loss: 0.0017\n",
      "Epoch 40/50\n",
      "73/73 [==============================] - 45s 613ms/step - loss: 0.0017\n",
      "Epoch 41/50\n",
      "73/73 [==============================] - 44s 602ms/step - loss: 0.0018\n",
      "Epoch 42/50\n",
      "73/73 [==============================] - 44s 607ms/step - loss: 0.0017\n",
      "Epoch 43/50\n",
      "73/73 [==============================] - 44s 601ms/step - loss: 0.0020\n",
      "Epoch 44/50\n",
      "73/73 [==============================] - 42s 571ms/step - loss: 0.0017\n",
      "Epoch 45/50\n",
      "73/73 [==============================] - 43s 593ms/step - loss: 0.0019\n",
      "Epoch 46/50\n",
      "73/73 [==============================] - 43s 596ms/step - loss: 0.0017\n",
      "Epoch 47/50\n",
      "73/73 [==============================] - 43s 597ms/step - loss: 0.0018\n",
      "Epoch 48/50\n",
      "73/73 [==============================] - 53s 724ms/step - loss: 0.0018\n",
      "Epoch 49/50\n",
      "73/73 [==============================] - 34s 462ms/step - loss: 0.0017\n",
      "Epoch 50/50\n",
      "73/73 [==============================] - 42s 574ms/step - loss: 0.0019\n"
     ]
    },
    {
     "data": {
      "text/plain": [
       "<keras.callbacks.History at 0x24d40bb0b50>"
      ]
     },
     "execution_count": 22,
     "metadata": {},
     "output_type": "execute_result"
    }
   ],
   "source": [
    "#compile the model\n",
    "model.compile(optimizer = 'adam', loss = 'mean_squared_error')\n",
    "\n",
    "#Fit the model\n",
    "model.fit(x_train, y_train, epochs = 50)"
   ]
  },
  {
   "cell_type": "code",
   "execution_count": 23,
   "id": "fea52bbc",
   "metadata": {},
   "outputs": [
    {
     "name": "stderr",
     "output_type": "stream",
     "text": [
      "WARNING:absl:Found untraced functions such as _update_step_xla while saving (showing 1 of 1). These functions will not be directly callable after loading.\n"
     ]
    },
    {
     "name": "stdout",
     "output_type": "stream",
     "text": [
      "INFO:tensorflow:Assets written to: keras_model.h1\\assets\n"
     ]
    },
    {
     "name": "stderr",
     "output_type": "stream",
     "text": [
      "INFO:tensorflow:Assets written to: keras_model.h1\\assets\n"
     ]
    }
   ],
   "source": [
    "model.save('keras_model.h1')"
   ]
  },
  {
   "cell_type": "code",
   "execution_count": 24,
   "id": "a988ac68",
   "metadata": {},
   "outputs": [
    {
     "data": {
      "text/html": [
       "<div>\n",
       "<style scoped>\n",
       "    .dataframe tbody tr th:only-of-type {\n",
       "        vertical-align: middle;\n",
       "    }\n",
       "\n",
       "    .dataframe tbody tr th {\n",
       "        vertical-align: top;\n",
       "    }\n",
       "\n",
       "    .dataframe thead th {\n",
       "        text-align: right;\n",
       "    }\n",
       "</style>\n",
       "<table border=\"1\" class=\"dataframe\">\n",
       "  <thead>\n",
       "    <tr style=\"text-align: right;\">\n",
       "      <th></th>\n",
       "      <th>Close</th>\n",
       "    </tr>\n",
       "  </thead>\n",
       "  <tbody>\n",
       "    <tr>\n",
       "      <th>2412</th>\n",
       "      <td>126.805984</td>\n",
       "    </tr>\n",
       "    <tr>\n",
       "      <th>2413</th>\n",
       "      <td>129.184647</td>\n",
       "    </tr>\n",
       "    <tr>\n",
       "      <th>2414</th>\n",
       "      <td>129.750488</td>\n",
       "    </tr>\n",
       "    <tr>\n",
       "      <th>2415</th>\n",
       "      <td>133.212921</td>\n",
       "    </tr>\n",
       "    <tr>\n",
       "      <th>2416</th>\n",
       "      <td>132.081192</td>\n",
       "    </tr>\n",
       "  </tbody>\n",
       "</table>\n",
       "</div>"
      ],
      "text/plain": [
       "           Close\n",
       "2412  126.805984\n",
       "2413  129.184647\n",
       "2414  129.750488\n",
       "2415  133.212921\n",
       "2416  132.081192"
      ]
     },
     "execution_count": 24,
     "metadata": {},
     "output_type": "execute_result"
    }
   ],
   "source": [
    "data_testing.head()"
   ]
  },
  {
   "cell_type": "code",
   "execution_count": 25,
   "id": "75687573",
   "metadata": {},
   "outputs": [],
   "source": [
    "#For predicting the testing data\n",
    "past_100_days = data_training.tail(100)"
   ]
  },
  {
   "cell_type": "code",
   "execution_count": 26,
   "id": "356f735d",
   "metadata": {},
   "outputs": [
    {
     "name": "stderr",
     "output_type": "stream",
     "text": [
      "C:\\Users\\saive\\AppData\\Local\\Temp\\ipykernel_5088\\531349220.py:1: FutureWarning: The frame.append method is deprecated and will be removed from pandas in a future version. Use pandas.concat instead.\n",
      "  final_df = past_100_days.append(data_testing, ignore_index=True)\n"
     ]
    }
   ],
   "source": [
    "final_df = past_100_days.append(data_testing, ignore_index=True)"
   ]
  },
  {
   "cell_type": "code",
   "execution_count": 27,
   "id": "c4c8a042",
   "metadata": {},
   "outputs": [
    {
     "data": {
      "text/html": [
       "<div>\n",
       "<style scoped>\n",
       "    .dataframe tbody tr th:only-of-type {\n",
       "        vertical-align: middle;\n",
       "    }\n",
       "\n",
       "    .dataframe tbody tr th {\n",
       "        vertical-align: top;\n",
       "    }\n",
       "\n",
       "    .dataframe thead th {\n",
       "        text-align: right;\n",
       "    }\n",
       "</style>\n",
       "<table border=\"1\" class=\"dataframe\">\n",
       "  <thead>\n",
       "    <tr style=\"text-align: right;\">\n",
       "      <th></th>\n",
       "      <th>Close</th>\n",
       "    </tr>\n",
       "  </thead>\n",
       "  <tbody>\n",
       "    <tr>\n",
       "      <th>0</th>\n",
       "      <td>109.414848</td>\n",
       "    </tr>\n",
       "    <tr>\n",
       "      <th>1</th>\n",
       "      <td>109.500839</td>\n",
       "    </tr>\n",
       "    <tr>\n",
       "      <th>2</th>\n",
       "      <td>110.762222</td>\n",
       "    </tr>\n",
       "    <tr>\n",
       "      <th>3</th>\n",
       "      <td>112.348503</td>\n",
       "    </tr>\n",
       "    <tr>\n",
       "      <th>4</th>\n",
       "      <td>112.424950</td>\n",
       "    </tr>\n",
       "  </tbody>\n",
       "</table>\n",
       "</div>"
      ],
      "text/plain": [
       "        Close\n",
       "0  109.414848\n",
       "1  109.500839\n",
       "2  110.762222\n",
       "3  112.348503\n",
       "4  112.424950"
      ]
     },
     "execution_count": 27,
     "metadata": {},
     "output_type": "execute_result"
    }
   ],
   "source": [
    "final_df.head()"
   ]
  },
  {
   "cell_type": "code",
   "execution_count": 28,
   "id": "fc7aa4aa",
   "metadata": {},
   "outputs": [
    {
     "data": {
      "text/plain": [
       "array([[0.00000000e+00],\n",
       "       [3.44907815e-04],\n",
       "       [5.40429019e-03],\n",
       "       ...,\n",
       "       [9.16609853e-01],\n",
       "       [8.91862051e-01],\n",
       "       [9.09069190e-01]])"
      ]
     },
     "execution_count": 28,
     "metadata": {},
     "output_type": "execute_result"
    }
   ],
   "source": [
    "# Again scaling\n",
    "input_data = scaler.fit_transform(final_df)\n",
    "input_data"
   ]
  },
  {
   "cell_type": "code",
   "execution_count": 29,
   "id": "5b78376d",
   "metadata": {},
   "outputs": [
    {
     "data": {
      "text/plain": [
       "(1135, 1)"
      ]
     },
     "execution_count": 29,
     "metadata": {},
     "output_type": "execute_result"
    }
   ],
   "source": [
    "input_data.shape"
   ]
  },
  {
   "cell_type": "code",
   "execution_count": 30,
   "id": "16f65c13",
   "metadata": {},
   "outputs": [],
   "source": [
    "x_test = []\n",
    "y_test = []\n",
    "\n",
    "for i in range(100, input_data.shape[0]):\n",
    "    x_test.append(input_data[i-100: i])\n",
    "    y_test.append(input_data[i, 0])"
   ]
  },
  {
   "cell_type": "code",
   "execution_count": 31,
   "id": "d2a8b0a1",
   "metadata": {},
   "outputs": [
    {
     "name": "stdout",
     "output_type": "stream",
     "text": [
      "(1035, 100, 1)\n",
      "(1035,)\n"
     ]
    }
   ],
   "source": [
    "x_test, y_test = np.array(x_test), np.array(y_test)\n",
    "print(x_test.shape)\n",
    "print(y_test.shape)"
   ]
  },
  {
   "cell_type": "code",
   "execution_count": 32,
   "id": "83959373",
   "metadata": {},
   "outputs": [
    {
     "name": "stdout",
     "output_type": "stream",
     "text": [
      "33/33 [==============================] - 5s 116ms/step\n"
     ]
    },
    {
     "data": {
      "text/plain": [
       "(1035, 1)"
      ]
     },
     "execution_count": 32,
     "metadata": {},
     "output_type": "execute_result"
    }
   ],
   "source": [
    "# Making Predictions\n",
    "\n",
    "y_predicted = model.predict(x_test)\n",
    "y_predicted.shape"
   ]
  },
  {
   "cell_type": "code",
   "execution_count": 33,
   "id": "7e6d3595",
   "metadata": {},
   "outputs": [
    {
     "data": {
      "text/plain": [
       "array([0.0697555 , 0.07929627, 0.08156585, ..., 0.91660985, 0.89186205,\n",
       "       0.90906919])"
      ]
     },
     "execution_count": 33,
     "metadata": {},
     "output_type": "execute_result"
    }
   ],
   "source": [
    "y_test"
   ]
  },
  {
   "cell_type": "code",
   "execution_count": 34,
   "id": "a7327f7e",
   "metadata": {},
   "outputs": [
    {
     "data": {
      "text/plain": [
       "array([[0.13749518],\n",
       "       [0.13771306],\n",
       "       [0.13777432],\n",
       "       ...,\n",
       "       [0.82561755],\n",
       "       [0.8278147 ],\n",
       "       [0.8302126 ]], dtype=float32)"
      ]
     },
     "execution_count": 34,
     "metadata": {},
     "output_type": "execute_result"
    }
   ],
   "source": [
    "y_predicted"
   ]
  },
  {
   "cell_type": "code",
   "execution_count": 35,
   "id": "e61e111c",
   "metadata": {},
   "outputs": [
    {
     "data": {
      "text/plain": [
       "array([0.00401098])"
      ]
     },
     "execution_count": 35,
     "metadata": {},
     "output_type": "execute_result"
    }
   ],
   "source": [
    "scaler.scale_"
   ]
  },
  {
   "cell_type": "code",
   "execution_count": 36,
   "id": "b4619be1",
   "metadata": {},
   "outputs": [],
   "source": [
    "scale_factor = 1/0.02822267\n",
    "y_predicted = y_predicted * scale_factor\n",
    "y_test = y_test * scale_factor"
   ]
  },
  {
   "cell_type": "code",
   "execution_count": 37,
   "id": "5b3e75a2",
   "metadata": {},
   "outputs": [
    {
     "data": {
      "image/png": "[encoded data removed]",
      "text/plain": [
       "<Figure size 1200x600 with 1 Axes>"
      ]
     },
     "metadata": {},
     "output_type": "display_data"
    }
   ],
   "source": [
    "plt.figure(figsize=(12,6))\n",
    "plt.plot(y_test, 'b', label = 'Original Price')\n",
    "plt.plot(y_predicted, 'r', label = 'Predicted Price')\n",
    "plt.xlabel('Time')\n",
    "plt.ylabel('Price')\n",
    "plt.legend()\n",
    "plt.show()"
   ]
  },
  {
   "cell_type": "code",
   "execution_count": 38,
   "id": "e0dd723b",
   "metadata": {},
   "outputs": [
    {
     "name": "stderr",
     "output_type": "stream",
     "text": [
      "C:\\Users\\saive\\anaconda3\\lib\\site-packages\\sklearn\\base.py:450: UserWarning: X does not have valid feature names, but MinMaxScaler was fitted with feature names\n",
      "  warnings.warn(\n"
     ]
    }
   ],
   "source": [
    "total_dataset = pd.concat((df['Close'],data_testing['Close']),axis=0)\n",
    "model_inputs = total_dataset[len(total_dataset)-len(data_testing)-100:].values\n",
    "model_inputs = model_inputs.reshape(-1,1)\n",
    "model_inputs = scaler.transform(model_inputs)"
   ]
  },
  {
   "cell_type": "code",
   "execution_count": 39,
   "id": "8f355f54",
   "metadata": {},
   "outputs": [],
   "source": [
    "# predicting next day\n",
    "\n",
    "real_data = [model_inputs[len(model_inputs)+1 - 100:len(model_inputs+1),0]]\n",
    "real_data = np.array(real_data)\n",
    "real_data = np.reshape(real_data, (real_data.shape[0], real_data.shape[1], 1))"
   ]
  },
  {
   "cell_type": "code",
   "execution_count": 40,
   "id": "419f457d",
   "metadata": {},
   "outputs": [
    {
     "name": "stdout",
     "output_type": "stream",
     "text": [
      "1/1 [==============================] - 1s 792ms/step\n",
      "prediction: [[317.03168]]\n"
     ]
    }
   ],
   "source": [
    "prediction = model.predict(real_data)\n",
    "prediction = scaler.inverse_transform(prediction)\n",
    "print(f\"prediction: {prediction}\")"
   ]
  },
  {
   "cell_type": "code",
   "execution_count": 41,
   "id": "0cd2e31c",
   "metadata": {},
   "outputs": [
    {
     "name": "stdout",
     "output_type": "stream",
     "text": [
      "0.9512689114194053\n"
     ]
    }
   ],
   "source": [
    "from sklearn.metrics import accuracy_score,mean_squared_error,r2_score\n",
    "accuracy = r2_score(y_test, y_predicted)\n",
    "print(accuracy)"
   ]
  },
  {
   "cell_type": "code",
   "execution_count": 42,
   "id": "2e44d3e2",
   "metadata": {},
   "outputs": [
    {
     "name": "stdout",
     "output_type": "stream",
     "text": [
      "Mean Absolute Error: 1.5285615558828098\n",
      "Mean Squared Error: 3.4539044093128752\n",
      "Root Mean Squared Error: 1.8584682965584522\n"
     ]
    }
   ],
   "source": [
    "from sklearn import metrics\n",
    "\n",
    "print('Mean Absolute Error:', metrics.mean_absolute_error(y_test, y_predicted))\n",
    "print('Mean Squared Error:', metrics.mean_squared_error(y_test, y_predicted))\n",
    "RSME = np.sqrt(metrics.mean_squared_error(y_test, y_predicted))\n",
    "print('Root Mean Squared Error:', np.sqrt(metrics.mean_squared_error(y_test, y_predicted)))"
   ]
  },
  {
   "cell_type": "code",
   "execution_count": null,
   "id": "0b5b85d8",
   "metadata": {},
   "outputs": [],
   "source": []
  },
  {
   "cell_type": "code",
   "execution_count": null,
   "id": "deef493e",
   "metadata": {},
   "outputs": [],
   "source": []
  }
 ],
 "metadata": {
  "kernelspec": {
   "display_name": "Python 3 (ipykernel)",
   "language": "python",
   "name": "python3"
  },
  "language_info": {
   "codemirror_mode": {
    "name": "ipython",
    "version": 3
   },
   "file_extension": ".py",
   "mimetype": "text/x-python",
   "name": "python",
   "nbconvert_exporter": "python",
   "pygments_lexer": "ipython3",
   "version": "3.9.13"
  }
 },
 "nbformat": 4,
 "nbformat_minor": 5
}
